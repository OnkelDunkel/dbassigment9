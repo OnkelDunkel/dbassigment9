{
 "cells": [
  {
   "cell_type": "markdown",
   "metadata": {},
   "source": [
    "Rename salesRepEmployeeNumber -> employeeNumber in customer table"
   ]
  },
  {
   "cell_type": "markdown",
   "metadata": {},
   "source": [
    "$A=\\rho_{employeeNumber\\,/\\,salesRepEmployeeNumber}(customers)$"
   ]
  },
  {
   "cell_type": "markdown",
   "metadata": {},
   "source": [
    "Natural join with employees"
   ]
  },
  {
   "cell_type": "markdown",
   "metadata": {},
   "source": [
    "$B=employees\\bowtie\\,A$"
   ]
  },
  {
   "cell_type": "markdown",
   "metadata": {},
   "source": [
    "Project to remove unnecessary columns with names that are dublicate to those of offices"
   ]
  },
  {
   "cell_type": "markdown",
   "metadata": {},
   "source": [
    "$C=\\Pi_{customerName,\\,officeCode,\\,city}(B)$"
   ]
  },
  {
   "cell_type": "markdown",
   "metadata": {},
   "source": [
    "Natural join with offices."
   ]
  },
  {
   "cell_type": "markdown",
   "metadata": {},
   "source": [
    "$D=offices\\bowtie\\,C$"
   ]
  },
  {
   "cell_type": "markdown",
   "metadata": {},
   "source": [
    "Since both D and the offices tables have city and office code the natural join will only join where both of these columns are a match.\n",
    "Final oneliner:"
   ]
  },
  {
   "cell_type": "markdown",
   "metadata": {},
   "source": [
    "$offices \\bowtie \\Pi_{customerName, \\, officeCode,\\, city}\\;(employees \\bowtie \\rho_{employeeNumber\\,/\\, salesRepEmployeeNumber}\\;(customers))$"
   ]
  },
  {
   "cell_type": "markdown",
   "metadata": {},
   "source": [
    "$\\Pi_{customerName,\\,city}(offices\\bowtie(\\Pi_{customerName,\\,officeCode,\\,city}\\;(employees\\bowtie(\\rho_{employeeNumber\\,/\\,salesRepEmployeeNumber}\\;(customers)^{[122]})^{[100]})^{[100]})^{[14]})^{[14]}$"
   ]
  },
  {
   "cell_type": "code",
   "execution_count": null,
   "metadata": {},
   "outputs": [],
   "source": []
  },
  {
   "cell_type": "code",
   "execution_count": null,
   "metadata": {},
   "outputs": [],
   "source": []
  }
 ],
 "metadata": {
  "kernelspec": {
   "display_name": "Python 3",
   "language": "python",
   "name": "python3"
  },
  "language_info": {
   "codemirror_mode": {
    "name": "ipython",
    "version": 3
   },
   "file_extension": ".py",
   "mimetype": "text/x-python",
   "name": "python",
   "nbconvert_exporter": "python",
   "pygments_lexer": "ipython3",
   "version": "3.6.7"
  }
 },
 "nbformat": 4,
 "nbformat_minor": 2
}
